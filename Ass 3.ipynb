{
 "cells": [
  {
   "cell_type": "code",
   "execution_count": 13,
   "id": "85409ec9",
   "metadata": {},
   "outputs": [
    {
     "name": "stdout",
     "output_type": "stream",
     "text": [
      "  corporation      person  sales_in_USD\n",
      "0       YAHOO      Sanjay           100\n",
      "1       YAHOO      Chetan           140\n",
      "2        MSFT       Smiti           540\n",
      "3        MSFT      Anjali           670\n",
      "4      GOOGLE  Shaliendra           240\n",
      "5      GOOGLE     Jagrati           551\n"
     ]
    }
   ],
   "source": [
    "import pandas as pd\n",
    "data={'corporation':['YAHOO','YAHOO','MSFT','MSFT','GOOGLE','GOOGLE'],\n",
    "      'person':['Sanjay','Chetan','Smiti','Anjali','Shaliendra','Jagrati'],\n",
    "      'sales_in_USD':[100,140,540,670,240,551]}\n",
    "df=pd.DataFrame(data)\n",
    "print(df)"
   ]
  },
  {
   "cell_type": "code",
   "execution_count": 14,
   "id": "7345b7e6",
   "metadata": {},
   "outputs": [
    {
     "data": {
      "text/plain": [
       "<pandas.core.groupby.generic.DataFrameGroupBy object at 0x0000013F87D0BE80>"
      ]
     },
     "execution_count": 14,
     "metadata": {},
     "output_type": "execute_result"
    }
   ],
   "source": [
    "group_data=df.groupby('corporation')\n",
    "group_data"
   ]
  },
  {
   "cell_type": "code",
   "execution_count": 15,
   "id": "abc99f7a",
   "metadata": {},
   "outputs": [
    {
     "name": "stdout",
     "output_type": "stream",
     "text": [
      "Sum():==>\n",
      "             sales_in_USD\n",
      "corporation              \n",
      "GOOGLE                791\n",
      "MSFT                 1210\n",
      "YAHOO                 240\n",
      "Mean():==>\n",
      "             sales_in_USD\n",
      "corporation              \n",
      "GOOGLE              395.5\n",
      "MSFT                605.0\n",
      "YAHOO               120.0\n",
      "Min():==>\n",
      "              person  sales_in_USD\n",
      "corporation                       \n",
      "GOOGLE       Jagrati           240\n",
      "MSFT          Anjali           540\n",
      "YAHOO         Chetan           100\n",
      "Max():==>\n",
      "                 person  sales_in_USD\n",
      "corporation                          \n",
      "GOOGLE       Shaliendra           551\n",
      "MSFT              Smiti           670\n",
      "YAHOO            Sanjay           140\n",
      "STD():==>\n",
      "             sales_in_USD\n",
      "corporation              \n",
      "GOOGLE         219.910209\n",
      "MSFT            91.923882\n",
      "YAHOO           28.284271\n",
      "Count():==>\n",
      "             person  sales_in_USD\n",
      "corporation                      \n",
      "GOOGLE            2             2\n",
      "MSFT              2             2\n",
      "YAHOO             2             2\n",
      "Describe():==>\n",
      "            sales_in_USD                                                   \\\n",
      "                   count   mean         std    min     25%    50%     75%   \n",
      "corporation                                                                 \n",
      "GOOGLE               2.0  395.5  219.910209  240.0  317.75  395.5  473.25   \n",
      "MSFT                 2.0  605.0   91.923882  540.0  572.50  605.0  637.50   \n",
      "YAHOO                2.0  120.0   28.284271  100.0  110.00  120.0  130.00   \n",
      "\n",
      "                    \n",
      "               max  \n",
      "corporation         \n",
      "GOOGLE       551.0  \n",
      "MSFT         670.0  \n",
      "YAHOO        140.0  \n"
     ]
    },
    {
     "name": "stderr",
     "output_type": "stream",
     "text": [
      "C:\\Users\\Sandip Sonar\\AppData\\Local\\Temp\\ipykernel_19108\\3911014533.py:2: FutureWarning: The default value of numeric_only in DataFrameGroupBy.sum is deprecated. In a future version, numeric_only will default to False. Either specify numeric_only or select only columns which should be valid for the function.\n",
      "  print(group_data.sum())\n",
      "C:\\Users\\Sandip Sonar\\AppData\\Local\\Temp\\ipykernel_19108\\3911014533.py:5: FutureWarning: The default value of numeric_only in DataFrameGroupBy.mean is deprecated. In a future version, numeric_only will default to False. Either specify numeric_only or select only columns which should be valid for the function.\n",
      "  print(group_data.mean())\n",
      "C:\\Users\\Sandip Sonar\\AppData\\Local\\Temp\\ipykernel_19108\\3911014533.py:14: FutureWarning: The default value of numeric_only in DataFrameGroupBy.std is deprecated. In a future version, numeric_only will default to False. Either specify numeric_only or select only columns which should be valid for the function.\n",
      "  print(group_data.std())\n"
     ]
    }
   ],
   "source": [
    "print(\"Sum():==>\")\n",
    "print(group_data.sum())\n",
    "\n",
    "print(\"Mean():==>\")\n",
    "print(group_data.mean())\n",
    "\n",
    "print(\"Min():==>\")\n",
    "print(group_data.min())\n",
    "\n",
    "print(\"Max():==>\")\n",
    "print(group_data.max())\n",
    "\n",
    "print(\"STD():==>\")\n",
    "print(group_data.std())\n",
    "\n",
    "print(\"Count():==>\")\n",
    "print(group_data.count())\n",
    "\n",
    "print(\"Describe():==>\")\n",
    "print(group_data.describe())"
   ]
  }
 ],
 "metadata": {
  "kernelspec": {
   "display_name": "Python 3 (ipykernel)",
   "language": "python",
   "name": "python3"
  },
  "language_info": {
   "codemirror_mode": {
    "name": "ipython",
    "version": 3
   },
   "file_extension": ".py",
   "mimetype": "text/x-python",
   "name": "python",
   "nbconvert_exporter": "python",
   "pygments_lexer": "ipython3",
   "version": "3.10.9"
  }
 },
 "nbformat": 4,
 "nbformat_minor": 5
}
