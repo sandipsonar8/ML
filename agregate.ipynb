{
 "cells": [
  {
   "cell_type": "code",
   "execution_count": 23,
   "id": "4555fe57",
   "metadata": {},
   "outputs": [
    {
     "data": {
      "text/html": [
       "<div>\n",
       "<style scoped>\n",
       "    .dataframe tbody tr th:only-of-type {\n",
       "        vertical-align: middle;\n",
       "    }\n",
       "\n",
       "    .dataframe tbody tr th {\n",
       "        vertical-align: top;\n",
       "    }\n",
       "\n",
       "    .dataframe thead th {\n",
       "        text-align: right;\n",
       "    }\n",
       "</style>\n",
       "<table border=\"1\" class=\"dataframe\">\n",
       "  <thead>\n",
       "    <tr style=\"text-align: right;\">\n",
       "      <th></th>\n",
       "      <th>Category</th>\n",
       "      <th>Value</th>\n",
       "    </tr>\n",
       "  </thead>\n",
       "  <tbody>\n",
       "    <tr>\n",
       "      <th>0</th>\n",
       "      <td>A</td>\n",
       "      <td>10</td>\n",
       "    </tr>\n",
       "    <tr>\n",
       "      <th>1</th>\n",
       "      <td>A</td>\n",
       "      <td>15</td>\n",
       "    </tr>\n",
       "    <tr>\n",
       "      <th>2</th>\n",
       "      <td>B</td>\n",
       "      <td>20</td>\n",
       "    </tr>\n",
       "    <tr>\n",
       "      <th>3</th>\n",
       "      <td>B</td>\n",
       "      <td>25</td>\n",
       "    </tr>\n",
       "    <tr>\n",
       "      <th>4</th>\n",
       "      <td>A</td>\n",
       "      <td>35</td>\n",
       "    </tr>\n",
       "    <tr>\n",
       "      <th>5</th>\n",
       "      <td>B</td>\n",
       "      <td>40</td>\n",
       "    </tr>\n",
       "  </tbody>\n",
       "</table>\n",
       "</div>"
      ],
      "text/plain": [
       "  Category  Value\n",
       "0        A     10\n",
       "1        A     15\n",
       "2        B     20\n",
       "3        B     25\n",
       "4        A     35\n",
       "5        B     40"
      ]
     },
     "execution_count": 23,
     "metadata": {},
     "output_type": "execute_result"
    }
   ],
   "source": [
    "# Data Aggregation function (sum , min, max, std, mean,describe ,count)\n",
    "import pandas as pd\n",
    "import numpy as np\n",
    "\n",
    "data=pd.read_csv('fun.csv')\n",
    "data"
   ]
  },
  {
   "cell_type": "code",
   "execution_count": 24,
   "id": "a33b2944",
   "metadata": {},
   "outputs": [],
   "source": [
    "data=data.groupby('Category')"
   ]
  },
  {
   "cell_type": "code",
   "execution_count": 27,
   "id": "a45f3537",
   "metadata": {},
   "outputs": [
    {
     "name": "stdout",
     "output_type": "stream",
     "text": [
      "sum : \n",
      "           Value\n",
      "Category       \n",
      "A            60\n",
      "B            85\n",
      "min : \n",
      "           Value\n",
      "Category       \n",
      "A            10\n",
      "B            20\n",
      "max : \n",
      "           Value\n",
      "Category       \n",
      "A            35\n",
      "B            40\n",
      "mean : \n",
      "               Value\n",
      "Category           \n",
      "A         20.000000\n",
      "B         28.333333\n",
      "count : \n",
      "           Value\n",
      "Category       \n",
      "A             3\n",
      "B             3\n",
      "std : \n",
      "               Value\n",
      "Category           \n",
      "A         13.228757\n",
      "B         10.408330\n",
      "describe : \n",
      "          Value                                                    \n",
      "         count       mean        std   min   25%   50%   75%   max\n",
      "Category                                                          \n",
      "A          3.0  20.000000  13.228757  10.0  12.5  15.0  25.0  35.0\n",
      "B          3.0  28.333333  10.408330  20.0  22.5  25.0  32.5  40.0\n"
     ]
    }
   ],
   "source": [
    "print('sum : \\n',data.sum())\n",
    "print('min : \\n',data.min())\n",
    "print('max : \\n',data.max())\n",
    "print('mean : \\n',data.mean())\n",
    "print('count : \\n',data.count())\n",
    "print('std : \\n',data.std())\n",
    "print('describe : \\n',data.describe())"
   ]
  }
 ],
 "metadata": {
  "kernelspec": {
   "display_name": "Python 3 (ipykernel)",
   "language": "python",
   "name": "python3"
  },
  "language_info": {
   "codemirror_mode": {
    "name": "ipython",
    "version": 3
   },
   "file_extension": ".py",
   "mimetype": "text/x-python",
   "name": "python",
   "nbconvert_exporter": "python",
   "pygments_lexer": "ipython3",
   "version": "3.10.9"
  }
 },
 "nbformat": 4,
 "nbformat_minor": 5
}
