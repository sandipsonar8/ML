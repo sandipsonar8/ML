{
 "cells": [
  {
   "cell_type": "code",
   "execution_count": null,
   "id": "8b12983f",
   "metadata": {},
   "outputs": [],
   "source": [
    "\"1. Write a program to implement k-Nearest Neighbour algorithm to classify the iris dataset. Print both correct \n",
    "and wrong predictions. Java/Python ML library classes can be used for this problem\""
   ]
  },
  {
   "cell_type": "code",
   "execution_count": 9,
   "id": "31d4bb66",
   "metadata": {
    "scrolled": true
   },
   "outputs": [
    {
     "name": "stdout",
     "output_type": "stream",
     "text": [
      "Correct prediction: [6.1 2.8 4.7 1.2] belongs to class 1\n",
      "Correct prediction: [5.7 3.8 1.7 0.3] belongs to class 0\n",
      "Correct prediction: [7.7 2.6 6.9 2.3] belongs to class 2\n",
      "Correct prediction: [6.  2.9 4.5 1.5] belongs to class 1\n",
      "Correct prediction: [6.8 2.8 4.8 1.4] belongs to class 1\n",
      "Correct prediction: [5.4 3.4 1.5 0.4] belongs to class 0\n",
      "Correct prediction: [5.6 2.9 3.6 1.3] belongs to class 1\n",
      "Correct prediction: [6.9 3.1 5.1 2.3] belongs to class 2\n",
      "Correct prediction: [6.2 2.2 4.5 1.5] belongs to class 1\n",
      "Correct prediction: [5.8 2.7 3.9 1.2] belongs to class 1\n",
      "Correct prediction: [6.5 3.2 5.1 2. ] belongs to class 2\n",
      "Correct prediction: [4.8 3.  1.4 0.1] belongs to class 0\n",
      "Correct prediction: [5.5 3.5 1.3 0.2] belongs to class 0\n",
      "Correct prediction: [4.9 3.1 1.5 0.1] belongs to class 0\n",
      "Correct prediction: [5.1 3.8 1.5 0.3] belongs to class 0\n",
      "Correct prediction: [6.3 3.3 4.7 1.6] belongs to class 1\n",
      "Correct prediction: [6.5 3.  5.8 2.2] belongs to class 2\n",
      "Correct prediction: [5.6 2.5 3.9 1.1] belongs to class 1\n",
      "Correct prediction: [5.7 2.8 4.5 1.3] belongs to class 1\n",
      "Correct prediction: [6.4 2.8 5.6 2.2] belongs to class 2\n",
      "Correct prediction: [4.7 3.2 1.6 0.2] belongs to class 0\n",
      "Correct prediction: [6.1 3.  4.9 1.8] belongs to class 2\n",
      "Correct prediction: [5.  3.4 1.6 0.4] belongs to class 0\n",
      "Correct prediction: [6.4 2.8 5.6 2.1] belongs to class 2\n",
      "Correct prediction: [7.9 3.8 6.4 2. ] belongs to class 2\n",
      "Correct prediction: [6.7 3.  5.2 2.3] belongs to class 2\n",
      "Correct prediction: [6.7 2.5 5.8 1.8] belongs to class 2\n",
      "Correct prediction: [6.8 3.2 5.9 2.3] belongs to class 2\n",
      "Correct prediction: [4.8 3.  1.4 0.3] belongs to class 0\n",
      "Correct prediction: [4.8 3.1 1.6 0.2] belongs to class 0\n",
      "Accuracy: 1.0\n"
     ]
    }
   ],
   "source": [
    "# Load the Iris dataset\n",
    "from sklearn.datasets import load_iris\n",
    "iris = load_iris()\n",
    "X = iris.data  # Input features\n",
    "y = iris.target  # Target variable\n",
    "\n",
    "# Split the dataset into training and test sets\n",
    "from sklearn.model_selection import train_test_split\n",
    "X_train, X_test, y_train, y_test = train_test_split(X, y, test_size=0.2, random_state=42)\n",
    "\n",
    "# Create a k-Nearest Neighbors classifier with k=3\n",
    "from sklearn.neighbors import KNeighborsClassifier\n",
    "knn = KNeighborsClassifier(n_neighbors=3)\n",
    "\n",
    "# Train the classifier\n",
    "knn.fit(X_train, y_train)\n",
    "\n",
    "# Predict the class labels for the test set\n",
    "y_pred = knn.predict(X_test)\n",
    "\n",
    "# Print the correct and wrong predictions\n",
    "for i in range(len(y_test)):\n",
    "    if y_pred[i] == y_test[i]:\n",
    "        print(f\"Correct prediction: {X_test[i]} belongs to class {y_pred[i]}\")\n",
    "    else:\n",
    "        print(f\"Wrong prediction: {X_test[i]} belongs to class {y_pred[i]}, but actually belongs to class {y_test[i]}\")\n",
    "\n",
    "# Calculate and print the accuracy of the classifier\n",
    "from sklearn.metrics import accuracy_score\n",
    "accuracy = accuracy_score(y_test, y_pred)\n",
    "print(f\"Accuracy: {accuracy}\")\n"
   ]
  },
  {
   "cell_type": "code",
   "execution_count": null,
   "id": "d2e8f281",
   "metadata": {},
   "outputs": [],
   "source": [
    "\n"
   ]
  },
  {
   "cell_type": "code",
   "execution_count": null,
   "id": "d3930c1d",
   "metadata": {},
   "outputs": [],
   "source": []
  }
 ],
 "metadata": {
  "kernelspec": {
   "display_name": "Python 3 (ipykernel)",
   "language": "python",
   "name": "python3"
  },
  "language_info": {
   "codemirror_mode": {
    "name": "ipython",
    "version": 3
   },
   "file_extension": ".py",
   "mimetype": "text/x-python",
   "name": "python",
   "nbconvert_exporter": "python",
   "pygments_lexer": "ipython3",
   "version": "3.10.9"
  }
 },
 "nbformat": 4,
 "nbformat_minor": 5
}
