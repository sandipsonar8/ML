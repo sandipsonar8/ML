{
 "cells": [
  {
   "cell_type": "code",
   "execution_count": 22,
   "id": "ed9cde3f",
   "metadata": {},
   "outputs": [
    {
     "name": "stdout",
     "output_type": "stream",
     "text": [
      "Accuracy: 0.9333333333333333\n",
      "Correct Prediction: Actual: virginica, Predicted: virginica\n",
      "Correct Prediction: Actual: versicolor, Predicted: versicolor\n",
      "Correct Prediction: Actual: setosa, Predicted: setosa\n",
      "Correct Prediction: Actual: virginica, Predicted: virginica\n",
      "Correct Prediction: Actual: setosa, Predicted: setosa\n",
      "Correct Prediction: Actual: virginica, Predicted: virginica\n",
      "Correct Prediction: Actual: setosa, Predicted: setosa\n",
      "Correct Prediction: Actual: versicolor, Predicted: versicolor\n",
      "Correct Prediction: Actual: versicolor, Predicted: versicolor\n",
      "Correct Prediction: Actual: versicolor, Predicted: versicolor\n",
      "Correct Prediction: Actual: virginica, Predicted: virginica\n",
      "Correct Prediction: Actual: versicolor, Predicted: versicolor\n",
      "Correct Prediction: Actual: versicolor, Predicted: versicolor\n",
      "Correct Prediction: Actual: versicolor, Predicted: versicolor\n",
      "Correct Prediction: Actual: versicolor, Predicted: versicolor\n",
      "Correct Prediction: Actual: setosa, Predicted: setosa\n",
      "Correct Prediction: Actual: versicolor, Predicted: versicolor\n",
      "Correct Prediction: Actual: versicolor, Predicted: versicolor\n",
      "Correct Prediction: Actual: setosa, Predicted: setosa\n",
      "Correct Prediction: Actual: setosa, Predicted: setosa\n",
      "Correct Prediction: Actual: virginica, Predicted: virginica\n",
      "Correct Prediction: Actual: versicolor, Predicted: versicolor\n",
      "Correct Prediction: Actual: setosa, Predicted: setosa\n",
      "Correct Prediction: Actual: setosa, Predicted: setosa\n",
      "Correct Prediction: Actual: virginica, Predicted: virginica\n",
      "Correct Prediction: Actual: setosa, Predicted: setosa\n",
      "Correct Prediction: Actual: setosa, Predicted: setosa\n",
      "Correct Prediction: Actual: versicolor, Predicted: versicolor\n",
      "Correct Prediction: Actual: versicolor, Predicted: versicolor\n",
      "Correct Prediction: Actual: setosa, Predicted: setosa\n",
      "Correct Prediction: Actual: virginica, Predicted: virginica\n",
      "Correct Prediction: Actual: versicolor, Predicted: versicolor\n",
      "Correct Prediction: Actual: setosa, Predicted: setosa\n",
      "Correct Prediction: Actual: virginica, Predicted: virginica\n",
      "Correct Prediction: Actual: virginica, Predicted: virginica\n",
      "Correct Prediction: Actual: versicolor, Predicted: versicolor\n",
      "Correct Prediction: Actual: setosa, Predicted: setosa\n",
      "Wrong Prediction: Actual: versicolor, Predicted: virginica\n",
      "Correct Prediction: Actual: versicolor, Predicted: versicolor\n",
      "Correct Prediction: Actual: versicolor, Predicted: versicolor\n",
      "Correct Prediction: Actual: virginica, Predicted: virginica\n",
      "Correct Prediction: Actual: setosa, Predicted: setosa\n",
      "Correct Prediction: Actual: virginica, Predicted: virginica\n",
      "Correct Prediction: Actual: setosa, Predicted: setosa\n",
      "Correct Prediction: Actual: setosa, Predicted: setosa\n",
      "Correct Prediction: Actual: versicolor, Predicted: versicolor\n",
      "Correct Prediction: Actual: virginica, Predicted: virginica\n",
      "Correct Prediction: Actual: virginica, Predicted: virginica\n",
      "Wrong Prediction: Actual: virginica, Predicted: versicolor\n",
      "Correct Prediction: Actual: virginica, Predicted: virginica\n",
      "Correct Prediction: Actual: versicolor, Predicted: versicolor\n",
      "Correct Prediction: Actual: virginica, Predicted: virginica\n",
      "Correct Prediction: Actual: versicolor, Predicted: versicolor\n",
      "Correct Prediction: Actual: versicolor, Predicted: versicolor\n",
      "Wrong Prediction: Actual: virginica, Predicted: versicolor\n",
      "Wrong Prediction: Actual: virginica, Predicted: versicolor\n",
      "Wrong Prediction: Actual: virginica, Predicted: versicolor\n",
      "Correct Prediction: Actual: virginica, Predicted: virginica\n",
      "Correct Prediction: Actual: versicolor, Predicted: versicolor\n",
      "Correct Prediction: Actual: virginica, Predicted: virginica\n",
      "Correct Prediction: Actual: versicolor, Predicted: versicolor\n",
      "Correct Prediction: Actual: setosa, Predicted: setosa\n",
      "Correct Prediction: Actual: virginica, Predicted: virginica\n",
      "Correct Prediction: Actual: versicolor, Predicted: versicolor\n",
      "Correct Prediction: Actual: versicolor, Predicted: versicolor\n",
      "Correct Prediction: Actual: versicolor, Predicted: versicolor\n",
      "Correct Prediction: Actual: versicolor, Predicted: versicolor\n",
      "Correct Prediction: Actual: virginica, Predicted: virginica\n",
      "Correct Prediction: Actual: setosa, Predicted: setosa\n",
      "Correct Prediction: Actual: setosa, Predicted: setosa\n",
      "Correct Prediction: Actual: virginica, Predicted: virginica\n",
      "Correct Prediction: Actual: versicolor, Predicted: versicolor\n",
      "Correct Prediction: Actual: setosa, Predicted: setosa\n",
      "Correct Prediction: Actual: setosa, Predicted: setosa\n",
      "Correct Prediction: Actual: versicolor, Predicted: versicolor\n",
      "Correct Predictions: 70\n",
      "Wrong Predictions: 5\n"
     ]
    }
   ],
   "source": [
    "import numpy as np\n",
    "import pandas as pd\n",
    "from sklearn.datasets import load_iris\n",
    "from sklearn.model_selection import train_test_split\n",
    "from sklearn.neighbors import KNeighborsClassifier\n",
    "from sklearn.metrics import accuracy_score, classification_report, confusion_matrix\n",
    "\n",
    "# Load the Iris dataset\n",
    "iris = load_iris()\n",
    "X = iris.data\n",
    "y = iris.target\n",
    "\n",
    "# Split the data into training and testing sets\n",
    "X_train, X_test, y_train, y_test = train_test_split(X, y, test_size=0.5, random_state=0)\n",
    "\n",
    "# Create the KNN classifier with k=3\n",
    "knn_model = KNeighborsClassifier(n_neighbors=3)\n",
    "\n",
    "# Train the model on the training data\n",
    "knn_model.fit(X_train, y_train)\n",
    "\n",
    "# Make predictions on the test data\n",
    "y_pred = knn_model.predict(X_test)\n",
    "\n",
    "# Calculate the accuracy\n",
    "accuracy = accuracy_score(y_test, y_pred)\n",
    "print(\"Accuracy:\", accuracy)\n",
    "\n",
    "# Print correct and wrong predictions\n",
    "correct_predictions = 0\n",
    "wrong_predictions = 0\n",
    "for i in range(len(y_test)):\n",
    "    if y_test[i] == y_pred[i]:\n",
    "        print(f\"Correct Prediction: Actual: {iris.target_names[y_test[i]]}, Predicted: {iris.target_names[y_pred[i]]}\")\n",
    "        correct_predictions += 1\n",
    "    else:\n",
    "        print(f\"Wrong Prediction: Actual: {iris.target_names[y_test[i]]}, Predicted: {iris.target_names[y_pred[i]]}\")\n",
    "        wrong_predictions += 1\n",
    "\n",
    "print(\"Correct Predictions:\", correct_predictions)\n",
    "print(\"Wrong Predictions:\", wrong_predictions)\n"
   ]
  },
  {
   "cell_type": "code",
   "execution_count": null,
   "id": "f6670ad1",
   "metadata": {},
   "outputs": [],
   "source": []
  },
  {
   "cell_type": "code",
   "execution_count": 23,
   "id": "d65bdcfa",
   "metadata": {},
   "outputs": [],
   "source": [
    "from sklearn.datasets import load_iris\n",
    "dataset=load_iris()\n",
    "x=dataset.data\n",
    "y=dataset.target"
   ]
  },
  {
   "cell_type": "code",
   "execution_count": 24,
   "id": "1ed0799d",
   "metadata": {},
   "outputs": [],
   "source": [
    "from sklearn.model_selection import train_test_split\n",
    "x_train,x_test,y_train,y_test=train_test_split(x,y,test_size=0.2,random_state=0)"
   ]
  },
  {
   "cell_type": "code",
   "execution_count": 25,
   "id": "c4fd7ca5",
   "metadata": {},
   "outputs": [],
   "source": [
    "from sklearn.naive_bayes import GaussianNB\n",
    "model=GaussianNB()\n",
    "model.fit(x_train,y_train)\n",
    "y_pred=model.predict(x_test)"
   ]
  },
  {
   "cell_type": "code",
   "execution_count": 30,
   "id": "3cfc4e85",
   "metadata": {
    "scrolled": true
   },
   "outputs": [
    {
     "name": "stdout",
     "output_type": "stream",
     "text": [
      "conff:\n",
      " [[11  0  0]\n",
      " [ 0 13  1]\n",
      " [ 0  0  5]]\n",
      "accu: 0.9666666666666667\n",
      "pres: 0.9722222222222222\n",
      "f1  : 0.9675645342312009\n",
      "recal 0.9666666666666667\n"
     ]
    }
   ],
   "source": [
    "from sklearn import metrics\n",
    "print(\"conff:\\n\",metrics.confusion_matrix(y_pred,y_test))\n",
    "print(\"accu:\",metrics.accuracy_score(y_pred,y_test))\n",
    "print(\"pres:\",metrics.precision_score(y_pred,y_test,average='weighted'))\n",
    "print(\"f1  :\",metrics.f1_score(y_pred,y_test,average='weighted'))\n",
    "print(\"recal\",metrics.recall_score(y_pred,y_test,average='weighted'))"
   ]
  },
  {
   "cell_type": "code",
   "execution_count": 27,
   "id": "1bd7ad89",
   "metadata": {},
   "outputs": [
    {
     "name": "stdout",
     "output_type": "stream",
     "text": [
      "correct pred:- actucal:virginica predicted:virginica\n",
      "correct pred:- actucal:versicolor predicted:versicolor\n",
      "correct pred:- actucal:setosa predicted:setosa\n",
      "correct pred:- actucal:virginica predicted:virginica\n",
      "correct pred:- actucal:setosa predicted:setosa\n",
      "correct pred:- actucal:virginica predicted:virginica\n",
      "correct pred:- actucal:setosa predicted:setosa\n",
      "correct pred:- actucal:versicolor predicted:versicolor\n",
      "correct pred:- actucal:versicolor predicted:versicolor\n",
      "correct pred:- actucal:versicolor predicted:versicolor\n",
      "wrong pred:- actucal:virginica predicted:versicolor\n",
      "correct pred:- actucal:versicolor predicted:versicolor\n",
      "correct pred:- actucal:versicolor predicted:versicolor\n",
      "correct pred:- actucal:versicolor predicted:versicolor\n",
      "correct pred:- actucal:versicolor predicted:versicolor\n",
      "correct pred:- actucal:setosa predicted:setosa\n",
      "correct pred:- actucal:versicolor predicted:versicolor\n",
      "correct pred:- actucal:versicolor predicted:versicolor\n",
      "correct pred:- actucal:setosa predicted:setosa\n",
      "correct pred:- actucal:setosa predicted:setosa\n",
      "correct pred:- actucal:virginica predicted:virginica\n",
      "correct pred:- actucal:versicolor predicted:versicolor\n",
      "correct pred:- actucal:setosa predicted:setosa\n",
      "correct pred:- actucal:setosa predicted:setosa\n",
      "correct pred:- actucal:virginica predicted:virginica\n",
      "correct pred:- actucal:setosa predicted:setosa\n",
      "correct pred:- actucal:setosa predicted:setosa\n",
      "correct pred:- actucal:versicolor predicted:versicolor\n",
      "correct pred:- actucal:versicolor predicted:versicolor\n",
      "correct pred:- actucal:setosa predicted:setosa\n"
     ]
    }
   ],
   "source": [
    "rp=0\n",
    "wp=0\n",
    "for i in range(len(y_test)):\n",
    "    if y_test[i] == y_pred[i]:\n",
    "        print(f\"correct pred:- actucal:{dataset.target_names[y_test[i]]} predicted:{dataset.target_names[y_pred[i]]}\")\n",
    "        rp+=1\n",
    "    else:\n",
    "        print(f\"wrong pred:- actucal:{dataset.target_names[y_test[i]]} predicted:{dataset.target_names[y_pred[i]]}\")\n",
    "        wp+=1"
   ]
  },
  {
   "cell_type": "code",
   "execution_count": 17,
   "id": "67710c23",
   "metadata": {},
   "outputs": [
    {
     "data": {
      "text/plain": [
       "array(['versicolor', 'setosa', 'virginica', 'versicolor', 'versicolor',\n",
       "       'setosa', 'versicolor', 'virginica', 'versicolor', 'versicolor',\n",
       "       'virginica', 'setosa', 'setosa', 'setosa', 'setosa', 'versicolor',\n",
       "       'virginica', 'versicolor', 'versicolor', 'virginica', 'setosa',\n",
       "       'virginica', 'setosa', 'virginica', 'virginica', 'virginica',\n",
       "       'virginica', 'virginica', 'setosa', 'setosa', 'setosa', 'setosa',\n",
       "       'versicolor', 'setosa', 'setosa', 'virginica', 'versicolor',\n",
       "       'setosa', 'setosa', 'setosa', 'virginica', 'versicolor',\n",
       "       'versicolor', 'setosa', 'setosa', 'versicolor', 'versicolor',\n",
       "       'virginica', 'versicolor', 'virginica', 'versicolor', 'virginica',\n",
       "       'versicolor', 'setosa', 'virginica', 'versicolor', 'setosa',\n",
       "       'setosa', 'setosa', 'versicolor', 'versicolor', 'setosa', 'setosa',\n",
       "       'setosa', 'versicolor', 'setosa', 'versicolor', 'virginica',\n",
       "       'setosa', 'versicolor', 'virginica', 'setosa', 'virginica',\n",
       "       'virginica', 'versicolor'], dtype='<U10')"
      ]
     },
     "execution_count": 17,
     "metadata": {},
     "output_type": "execute_result"
    }
   ],
   "source": []
  },
  {
   "cell_type": "code",
   "execution_count": null,
   "id": "3682bac5",
   "metadata": {},
   "outputs": [],
   "source": []
  }
 ],
 "metadata": {
  "kernelspec": {
   "display_name": "Python 3 (ipykernel)",
   "language": "python",
   "name": "python3"
  },
  "language_info": {
   "codemirror_mode": {
    "name": "ipython",
    "version": 3
   },
   "file_extension": ".py",
   "mimetype": "text/x-python",
   "name": "python",
   "nbconvert_exporter": "python",
   "pygments_lexer": "ipython3",
   "version": "3.10.9"
  }
 },
 "nbformat": 4,
 "nbformat_minor": 5
}
