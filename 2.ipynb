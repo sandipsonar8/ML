{
 "cells": [
  {
   "cell_type": "code",
   "execution_count": 1,
   "id": "643ef2ec",
   "metadata": {},
   "outputs": [],
   "source": [
    "# Write Python program to Implement Data Preparation using techniques like data filtration on dataset\n",
    "# 1) Installation packages, Loading Dataset, Show data frame \n",
    "# 2) Data Filtration technique (Select Single and Multiple column by label, Selecting columns by data type ,selecting single Or \n",
    "# multiple row , etc) \n",
    "import pandas as pd\n",
    "import numpy as np"
   ]
  },
  {
   "cell_type": "code",
   "execution_count": 7,
   "id": "488452c9",
   "metadata": {},
   "outputs": [],
   "source": [
    "data=pd.read_csv('abc.csv')\n",
    "items_colm=data['iteams']\n",
    "all_colm=data[[\"iteams\",\"price\"]]"
   ]
  },
  {
   "cell_type": "code",
   "execution_count": 14,
   "id": "66cc59b6",
   "metadata": {
    "scrolled": true
   },
   "outputs": [
    {
     "name": "stdout",
     "output_type": "stream",
     "text": [
      "  iteams\n",
      "0      A\n",
      "1      B\n",
      "2      C\n",
      "3      D\n",
      "4      E\n",
      "5      F\n",
      "6      G\n",
      "7      H\n",
      "8      I\n",
      "9      J\n"
     ]
    }
   ],
   "source": [
    "select_type=data.select_dtypes(include=[\"object\"],exclude=[\"number\"])\n",
    "print(select_type)"
   ]
  },
  {
   "cell_type": "code",
   "execution_count": 26,
   "id": "3d9fc0b9",
   "metadata": {},
   "outputs": [
    {
     "data": {
      "text/plain": [
       "0    A\n",
       "1    B\n",
       "Name: iteams, dtype: object"
      ]
     },
     "execution_count": 26,
     "metadata": {},
     "output_type": "execute_result"
    }
   ],
   "source": [
    "data.iloc[[0,1],0]"
   ]
  }
 ],
 "metadata": {
  "kernelspec": {
   "display_name": "Python 3 (ipykernel)",
   "language": "python",
   "name": "python3"
  },
  "language_info": {
   "codemirror_mode": {
    "name": "ipython",
    "version": 3
   },
   "file_extension": ".py",
   "mimetype": "text/x-python",
   "name": "python",
   "nbconvert_exporter": "python",
   "pygments_lexer": "ipython3",
   "version": "3.10.9"
  }
 },
 "nbformat": 4,
 "nbformat_minor": 5
}
