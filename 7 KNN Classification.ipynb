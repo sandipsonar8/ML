{
 "cells": [
  {
   "cell_type": "code",
   "execution_count": null,
   "id": "9fa2fb1f",
   "metadata": {},
   "outputs": [],
   "source": [
    "#implementation KNearest Neighbour (KNN) Machine Learning Classifier, using IRIS Dataset."
   ]
  },
  {
   "cell_type": "code",
   "execution_count": 1,
   "id": "e63a4e33",
   "metadata": {},
   "outputs": [],
   "source": [
    "import numpy as np\n",
    "import pandas as pd\n",
    "from sklearn.datasets import load_breast_cancer"
   ]
  },
  {
   "cell_type": "code",
   "execution_count": 3,
   "id": "5795d3e2",
   "metadata": {},
   "outputs": [],
   "source": [
    "# Load the Iris dataset\n",
    "bc = load_breast_cancer()\n",
    "x = bc.data\n",
    "y = bc.target"
   ]
  },
  {
   "cell_type": "code",
   "execution_count": 4,
   "id": "be106ecf",
   "metadata": {},
   "outputs": [],
   "source": [
    "from sklearn.model_selection import train_test_split\n",
    "# Split the data into training and testing sets\n",
    "x_train, x_test, y_train, y_test = train_test_split(bc.data[:,0:9],bc.target,shuffle=True,test_size=0.3, random_state=42)"
   ]
  },
  {
   "cell_type": "code",
   "execution_count": 5,
   "id": "cbfb591c",
   "metadata": {},
   "outputs": [],
   "source": [
    "from sklearn.neighbors import KNeighborsClassifier\n",
    "model=KNeighborsClassifier(n_neighbors=2)\n",
    "model.fit(x_train,y_train)\n",
    "y_pred=model.predict(x_test)"
   ]
  },
  {
   "cell_type": "code",
   "execution_count": 6,
   "id": "59792535",
   "metadata": {},
   "outputs": [
    {
     "data": {
      "text/plain": [
       "0.8713450292397661"
      ]
     },
     "execution_count": 6,
     "metadata": {},
     "output_type": "execute_result"
    }
   ],
   "source": [
    "from sklearn import metrics\n",
    "metrics.accuracy_score(y_test,y_pred)"
   ]
  },
  {
   "cell_type": "code",
   "execution_count": 7,
   "id": "d70c77e4",
   "metadata": {},
   "outputs": [
    {
     "data": {
      "text/plain": [
       "array([[57,  6],\n",
       "       [16, 92]], dtype=int64)"
      ]
     },
     "execution_count": 7,
     "metadata": {},
     "output_type": "execute_result"
    }
   ],
   "source": [
    "metrics.confusion_matrix(y_test, y_pred)"
   ]
  },
  {
   "cell_type": "code",
   "execution_count": 8,
   "id": "7d87617d",
   "metadata": {},
   "outputs": [
    {
     "data": {
      "text/plain": [
       "'              precision    recall  f1-score   support\\n\\n           0       0.78      0.90      0.84        63\\n           1       0.94      0.85      0.89       108\\n\\n    accuracy                           0.87       171\\n   macro avg       0.86      0.88      0.87       171\\nweighted avg       0.88      0.87      0.87       171\\n'"
      ]
     },
     "execution_count": 8,
     "metadata": {},
     "output_type": "execute_result"
    }
   ],
   "source": [
    "metrics.classification_report(y_test,y_pred)"
   ]
  },
  {
   "cell_type": "code",
   "execution_count": 9,
   "id": "986cd693",
   "metadata": {},
   "outputs": [
    {
     "name": "stdout",
     "output_type": "stream",
     "text": [
      "Correct Prediction: Actual: benign, Predicted: benign\n",
      "Correct Prediction: Actual: malignant, Predicted: malignant\n",
      "Correct Prediction: Actual: malignant, Predicted: malignant\n",
      "Correct Prediction: Actual: benign, Predicted: benign\n",
      "Correct Prediction: Actual: benign, Predicted: benign\n",
      "Correct Prediction: Actual: malignant, Predicted: malignant\n",
      "Correct Prediction: Actual: malignant, Predicted: malignant\n",
      "Correct Prediction: Actual: malignant, Predicted: malignant\n",
      "Correct Prediction: Actual: benign, Predicted: benign\n",
      "Wrong Prediction: Actual: benign, Predicted: malignant\n",
      "Correct Prediction: Actual: benign, Predicted: benign\n",
      "Correct Prediction: Actual: malignant, Predicted: malignant\n",
      "Correct Prediction: Actual: benign, Predicted: benign\n",
      "Correct Prediction: Actual: malignant, Predicted: malignant\n",
      "Correct Prediction: Actual: benign, Predicted: benign\n",
      "Correct Prediction: Actual: malignant, Predicted: malignant\n",
      "Wrong Prediction: Actual: benign, Predicted: malignant\n",
      "Correct Prediction: Actual: benign, Predicted: benign\n",
      "Correct Prediction: Actual: benign, Predicted: benign\n",
      "Correct Prediction: Actual: malignant, Predicted: malignant\n",
      "Wrong Prediction: Actual: malignant, Predicted: benign\n",
      "Correct Prediction: Actual: benign, Predicted: benign\n",
      "Correct Prediction: Actual: malignant, Predicted: malignant\n",
      "Correct Prediction: Actual: benign, Predicted: benign\n",
      "Correct Prediction: Actual: benign, Predicted: benign\n",
      "Correct Prediction: Actual: benign, Predicted: benign\n",
      "Correct Prediction: Actual: benign, Predicted: benign\n",
      "Correct Prediction: Actual: benign, Predicted: benign\n",
      "Correct Prediction: Actual: benign, Predicted: benign\n",
      "Correct Prediction: Actual: malignant, Predicted: malignant\n",
      "Wrong Prediction: Actual: benign, Predicted: malignant\n",
      "Correct Prediction: Actual: benign, Predicted: benign\n",
      "Correct Prediction: Actual: benign, Predicted: benign\n",
      "Correct Prediction: Actual: benign, Predicted: benign\n",
      "Correct Prediction: Actual: benign, Predicted: benign\n",
      "Correct Prediction: Actual: benign, Predicted: benign\n",
      "Correct Prediction: Actual: malignant, Predicted: malignant\n",
      "Correct Prediction: Actual: benign, Predicted: benign\n",
      "Correct Prediction: Actual: malignant, Predicted: malignant\n",
      "Wrong Prediction: Actual: benign, Predicted: malignant\n",
      "Correct Prediction: Actual: benign, Predicted: benign\n",
      "Correct Prediction: Actual: malignant, Predicted: malignant\n",
      "Correct Prediction: Actual: benign, Predicted: benign\n",
      "Wrong Prediction: Actual: benign, Predicted: malignant\n",
      "Correct Prediction: Actual: benign, Predicted: benign\n",
      "Correct Prediction: Actual: benign, Predicted: benign\n",
      "Correct Prediction: Actual: benign, Predicted: benign\n",
      "Correct Prediction: Actual: benign, Predicted: benign\n",
      "Correct Prediction: Actual: benign, Predicted: benign\n",
      "Correct Prediction: Actual: benign, Predicted: benign\n",
      "Correct Prediction: Actual: malignant, Predicted: malignant\n",
      "Correct Prediction: Actual: malignant, Predicted: malignant\n",
      "Wrong Prediction: Actual: benign, Predicted: malignant\n",
      "Correct Prediction: Actual: benign, Predicted: benign\n",
      "Wrong Prediction: Actual: benign, Predicted: malignant\n",
      "Correct Prediction: Actual: benign, Predicted: benign\n",
      "Correct Prediction: Actual: benign, Predicted: benign\n",
      "Correct Prediction: Actual: malignant, Predicted: malignant\n",
      "Wrong Prediction: Actual: malignant, Predicted: benign\n",
      "Correct Prediction: Actual: benign, Predicted: benign\n",
      "Correct Prediction: Actual: benign, Predicted: benign\n",
      "Correct Prediction: Actual: malignant, Predicted: malignant\n",
      "Correct Prediction: Actual: malignant, Predicted: malignant\n",
      "Wrong Prediction: Actual: benign, Predicted: malignant\n",
      "Correct Prediction: Actual: benign, Predicted: benign\n",
      "Wrong Prediction: Actual: benign, Predicted: malignant\n",
      "Correct Prediction: Actual: malignant, Predicted: malignant\n",
      "Correct Prediction: Actual: malignant, Predicted: malignant\n",
      "Wrong Prediction: Actual: benign, Predicted: malignant\n",
      "Correct Prediction: Actual: benign, Predicted: benign\n",
      "Wrong Prediction: Actual: malignant, Predicted: benign\n",
      "Correct Prediction: Actual: malignant, Predicted: malignant\n",
      "Correct Prediction: Actual: benign, Predicted: benign\n",
      "Correct Prediction: Actual: malignant, Predicted: malignant\n",
      "Correct Prediction: Actual: benign, Predicted: benign\n",
      "Correct Prediction: Actual: benign, Predicted: benign\n",
      "Wrong Prediction: Actual: benign, Predicted: malignant\n",
      "Correct Prediction: Actual: malignant, Predicted: malignant\n",
      "Correct Prediction: Actual: benign, Predicted: benign\n",
      "Correct Prediction: Actual: benign, Predicted: benign\n",
      "Correct Prediction: Actual: malignant, Predicted: malignant\n",
      "Correct Prediction: Actual: benign, Predicted: benign\n",
      "Correct Prediction: Actual: malignant, Predicted: malignant\n",
      "Correct Prediction: Actual: malignant, Predicted: malignant\n",
      "Correct Prediction: Actual: malignant, Predicted: malignant\n",
      "Correct Prediction: Actual: malignant, Predicted: malignant\n",
      "Correct Prediction: Actual: malignant, Predicted: malignant\n",
      "Correct Prediction: Actual: malignant, Predicted: malignant\n",
      "Correct Prediction: Actual: benign, Predicted: benign\n",
      "Correct Prediction: Actual: benign, Predicted: benign\n",
      "Correct Prediction: Actual: benign, Predicted: benign\n",
      "Correct Prediction: Actual: benign, Predicted: benign\n",
      "Correct Prediction: Actual: benign, Predicted: benign\n",
      "Correct Prediction: Actual: benign, Predicted: benign\n",
      "Correct Prediction: Actual: benign, Predicted: benign\n",
      "Correct Prediction: Actual: benign, Predicted: benign\n",
      "Correct Prediction: Actual: malignant, Predicted: malignant\n",
      "Correct Prediction: Actual: malignant, Predicted: malignant\n",
      "Correct Prediction: Actual: benign, Predicted: benign\n",
      "Correct Prediction: Actual: malignant, Predicted: malignant\n",
      "Correct Prediction: Actual: malignant, Predicted: malignant\n",
      "Correct Prediction: Actual: benign, Predicted: benign\n",
      "Correct Prediction: Actual: malignant, Predicted: malignant\n",
      "Correct Prediction: Actual: malignant, Predicted: malignant\n",
      "Correct Prediction: Actual: benign, Predicted: benign\n",
      "Correct Prediction: Actual: benign, Predicted: benign\n",
      "Correct Prediction: Actual: benign, Predicted: benign\n",
      "Correct Prediction: Actual: malignant, Predicted: malignant\n",
      "Correct Prediction: Actual: benign, Predicted: benign\n",
      "Correct Prediction: Actual: benign, Predicted: benign\n",
      "Correct Prediction: Actual: malignant, Predicted: malignant\n",
      "Correct Prediction: Actual: benign, Predicted: benign\n",
      "Wrong Prediction: Actual: benign, Predicted: malignant\n",
      "Correct Prediction: Actual: malignant, Predicted: malignant\n",
      "Correct Prediction: Actual: benign, Predicted: benign\n",
      "Correct Prediction: Actual: malignant, Predicted: malignant\n",
      "Correct Prediction: Actual: benign, Predicted: benign\n",
      "Correct Prediction: Actual: benign, Predicted: benign\n",
      "Correct Prediction: Actual: benign, Predicted: benign\n",
      "Wrong Prediction: Actual: malignant, Predicted: benign\n",
      "Wrong Prediction: Actual: benign, Predicted: malignant\n",
      "Correct Prediction: Actual: benign, Predicted: benign\n",
      "Correct Prediction: Actual: benign, Predicted: benign\n",
      "Correct Prediction: Actual: malignant, Predicted: malignant\n",
      "Correct Prediction: Actual: benign, Predicted: benign\n",
      "Correct Prediction: Actual: malignant, Predicted: malignant\n",
      "Wrong Prediction: Actual: malignant, Predicted: benign\n",
      "Correct Prediction: Actual: benign, Predicted: benign\n",
      "Correct Prediction: Actual: benign, Predicted: benign\n",
      "Correct Prediction: Actual: malignant, Predicted: malignant\n",
      "Correct Prediction: Actual: malignant, Predicted: malignant\n",
      "Correct Prediction: Actual: malignant, Predicted: malignant\n",
      "Wrong Prediction: Actual: benign, Predicted: malignant\n",
      "Correct Prediction: Actual: benign, Predicted: benign\n",
      "Wrong Prediction: Actual: benign, Predicted: malignant\n",
      "Correct Prediction: Actual: malignant, Predicted: malignant\n",
      "Correct Prediction: Actual: benign, Predicted: benign\n",
      "Correct Prediction: Actual: benign, Predicted: benign\n",
      "Correct Prediction: Actual: benign, Predicted: benign\n",
      "Correct Prediction: Actual: malignant, Predicted: malignant\n",
      "Correct Prediction: Actual: benign, Predicted: benign\n",
      "Correct Prediction: Actual: malignant, Predicted: malignant\n",
      "Correct Prediction: Actual: benign, Predicted: benign\n",
      "Correct Prediction: Actual: benign, Predicted: benign\n",
      "Wrong Prediction: Actual: malignant, Predicted: benign\n",
      "Correct Prediction: Actual: benign, Predicted: benign\n",
      "Correct Prediction: Actual: malignant, Predicted: malignant\n",
      "Correct Prediction: Actual: malignant, Predicted: malignant\n",
      "Correct Prediction: Actual: malignant, Predicted: malignant\n",
      "Correct Prediction: Actual: benign, Predicted: benign\n",
      "Correct Prediction: Actual: malignant, Predicted: malignant\n",
      "Correct Prediction: Actual: benign, Predicted: benign\n",
      "Correct Prediction: Actual: benign, Predicted: benign\n",
      "Correct Prediction: Actual: benign, Predicted: benign\n",
      "Correct Prediction: Actual: benign, Predicted: benign\n",
      "Correct Prediction: Actual: malignant, Predicted: malignant\n",
      "Correct Prediction: Actual: malignant, Predicted: malignant\n",
      "Correct Prediction: Actual: benign, Predicted: benign\n",
      "Correct Prediction: Actual: benign, Predicted: benign\n",
      "Correct Prediction: Actual: benign, Predicted: benign\n",
      "Correct Prediction: Actual: benign, Predicted: benign\n",
      "Correct Prediction: Actual: benign, Predicted: benign\n",
      "Correct Prediction: Actual: benign, Predicted: benign\n",
      "Correct Prediction: Actual: benign, Predicted: benign\n",
      "Correct Prediction: Actual: malignant, Predicted: malignant\n",
      "Correct Prediction: Actual: benign, Predicted: benign\n",
      "Correct Prediction: Actual: benign, Predicted: benign\n",
      "Wrong Prediction: Actual: benign, Predicted: malignant\n",
      "Correct Prediction: Actual: benign, Predicted: benign\n",
      "Correct Prediction: Actual: malignant, Predicted: malignant\n",
      "Correct Prediction: Actual: benign, Predicted: benign\n",
      "Correct Predictions: 149\n",
      "Wrong Predictions: 22\n"
     ]
    }
   ],
   "source": [
    "correct_predictions = 0\n",
    "wrong_predictions = 0\n",
    "for i in range(len(y_test)):\n",
    "    if y_test[i] == y_pred[i]:\n",
    "        print(f\"Correct Prediction: Actual: {bc.target_names[y_test[i]]}, Predicted: {bc.target_names[y_pred[i]]}\")\n",
    "        correct_predictions += 1\n",
    "    else:\n",
    "        print(f\"Wrong Prediction: Actual: {bc.target_names[y_test[i]]}, Predicted: {bc.target_names[y_pred[i]]}\")\n",
    "        wrong_predictions += 1\n",
    "\n",
    "print(\"Correct Predictions:\", correct_predictions)\n",
    "print(\"Wrong Predictions:\", wrong_predictions)"
   ]
  },
  {
   "cell_type": "code",
   "execution_count": null,
   "id": "96f919a2",
   "metadata": {},
   "outputs": [],
   "source": []
  }
 ],
 "metadata": {
  "kernelspec": {
   "display_name": "Python 3 (ipykernel)",
   "language": "python",
   "name": "python3"
  },
  "language_info": {
   "codemirror_mode": {
    "name": "ipython",
    "version": 3
   },
   "file_extension": ".py",
   "mimetype": "text/x-python",
   "name": "python",
   "nbconvert_exporter": "python",
   "pygments_lexer": "ipython3",
   "version": "3.10.9"
  }
 },
 "nbformat": 4,
 "nbformat_minor": 5
}
